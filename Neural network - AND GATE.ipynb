{
 "cells": [
  {
   "cell_type": "markdown",
   "metadata": {},
   "source": [
    "# Artificial Neural network trained to work has AND gate "
   ]
  },
  {
   "cell_type": "code",
   "execution_count": 73,
   "metadata": {},
   "outputs": [],
   "source": [
    "import numpy as np\n",
    "\n",
    "# define inputs \n",
    "inp = np.array([[0,0],[0,1],[1,0],[1,1]])\n",
    "\n",
    "# define targets \n",
    "target = np.array([0,0,0,1]).reshape(-1,1)\n",
    "\n",
    "# define random weights\n",
    "wt = np.array([[0.1,0.3]]).reshape(2,1)\n",
    "\n",
    "# define bias and learning weight (lr)\n",
    "bias = 0.3\n",
    "lr   = 0.05\n",
    "\n",
    "\n",
    "def sigmoid(x):\n",
    "    return 1/(1+np.exp(-x))\n",
    "\n",
    "def sigmoid_derv(out):\n",
    "    return sigmoid(x)*(1 - sigmoid(x))\n",
    "\n",
    "# training neural networl \n",
    "\n",
    "for epoch in range(10000):\n",
    "    # calculate wieghted sum of inputs .\n",
    "    x = np.dot(inp,wt)+bias\n",
    "    # calulcate output by applying activation func .\n",
    "    out = sigmoid(x)\n",
    "    # calculate error\n",
    "    error = out - target\n",
    "    \n",
    "    # calculate derivatives to update weights . \n",
    "    # i.e derror/dwt = derror/dout * dout/dinp * dinp/dwt\n",
    "    \n",
    "    # first deriv\n",
    "    derror_dout = error\n",
    "    \n",
    "    # second deriv\n",
    "    dout_dinp = sigmoid_derv(out)\n",
    "    \n",
    "    # multipying 1st and 2nd derivatives \n",
    "    derv = derror_dout * dout_dinp\n",
    "        \n",
    "    # calculating 3rd derivative .\n",
    "    final_derv = np.dot(inp.T,derv)\n",
    "    \n",
    "    # updating weights \n",
    "    wt = wt -  lr *final_derv \n",
    "    \n",
    "    # updating bias \n",
    "    \n",
    "    for i in derv:\n",
    "        bias-=lr*i\n",
    "    \n",
    "    "
   ]
  },
  {
   "cell_type": "code",
   "execution_count": 77,
   "metadata": {},
   "outputs": [
    {
     "name": "stdout",
     "output_type": "stream",
     "text": [
      "enter 1st inp : 1\n",
      "enter 2nd inp : 1\n"
     ]
    },
    {
     "data": {
      "text/plain": [
       "array([0.90240912])"
      ]
     },
     "execution_count": 77,
     "metadata": {},
     "output_type": "execute_result"
    }
   ],
   "source": [
    "# testing 1\n",
    "\n",
    "inp1 = int(input(\"enter 1st inp : \"))\n",
    "inp2 = int(input(\"enter 2nd inp : \"))\n",
    "\n",
    "inp = np.array([inp1,inp2])\n",
    "x   = np.dot(inp,wt)+bias\n",
    "\n",
    "sigmoid(x) # 1*1 = 1 with 90% probablity"
   ]
  },
  {
   "cell_type": "code",
   "execution_count": 78,
   "metadata": {},
   "outputs": [
    {
     "name": "stdout",
     "output_type": "stream",
     "text": [
      "enter 1st inp : 0\n",
      "enter 2nd inp : 1\n"
     ]
    },
    {
     "data": {
      "text/plain": [
       "array([0.08172964])"
      ]
     },
     "execution_count": 78,
     "metadata": {},
     "output_type": "execute_result"
    }
   ],
   "source": [
    "# testing 2\n",
    "\n",
    "inp1 = int(input(\"enter 1st inp : \"))\n",
    "inp2 = int(input(\"enter 2nd inp : \"))\n",
    "\n",
    "inp = np.array([inp1,inp2])\n",
    "x   = np.dot(inp,wt)+bias\n",
    "\n",
    "sigmoid(x) # 0*1 = 1 with 0% probablity"
   ]
  }
 ],
 "metadata": {
  "kernelspec": {
   "display_name": "Python 3",
   "language": "python",
   "name": "python3"
  },
  "language_info": {
   "codemirror_mode": {
    "name": "ipython",
    "version": 3
   },
   "file_extension": ".py",
   "mimetype": "text/x-python",
   "name": "python",
   "nbconvert_exporter": "python",
   "pygments_lexer": "ipython3",
   "version": "3.8.3"
  }
 },
 "nbformat": 4,
 "nbformat_minor": 4
}
